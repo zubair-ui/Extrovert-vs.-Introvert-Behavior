{
 "cells": [
  {
   "cell_type": "markdown",
   "id": "1d097855-a17a-4bf3-b09b-1e203b12f104",
   "metadata": {},
   "source": [
    "# Introvert VS Extrovert Behavior Model using Logistic Regression and Random Forest\n"
   ]
  },
  {
   "cell_type": "markdown",
   "id": "42566641-a3ba-421e-8e16-d555d0bd1916",
   "metadata": {},
   "source": [
    "## Data Analysis\n"
   ]
  },
  {
   "cell_type": "code",
   "execution_count": 5,
   "id": "8ed04e84-7995-47ad-88ac-0423cb4bd766",
   "metadata": {},
   "outputs": [
    {
     "name": "stdout",
     "output_type": "stream",
     "text": [
      "Train shape: (1733, 7)\n",
      "Validation shape: (372, 7)\n",
      "Test shape: (372, 7)\n"
     ]
    }
   ],
   "source": [
    "import pandas as pd\n",
    "from sklearn.model_selection import train_test_split\n",
    "\n",
    "# Load Dataset\n",
    "df = pd.read_csv(\"personality_dataset.csv\")\n",
    "\n",
    "# Drop null rows \n",
    "df = df.dropna()\n",
    "\n",
    "# Encode categorical Yes/No -> 1/0\n",
    "df[\"Stage_fear\"] = df[\"Stage_fear\"].map({\"Yes\": 1, \"No\": 0})\n",
    "df[\"Drained_after_socializing\"] = df[\"Drained_after_socializing\"].map({\"Yes\": 1, \"No\": 0})\n",
    "\n",
    "# Encode target Introvert=0, Extrovert=1\n",
    "df[\"Personality\"] = df[\"Personality\"].map({\"Introvert\": 0, \"Extrovert\": 1})\n",
    "\n",
    "# Features and Target\n",
    "X = df.drop(\"Personality\", axis=1)\n",
    "y = df[\"Personality\"]\n",
    "\n",
    "# Data Splitting\n",
    "X_train, X_temp, y_train, y_temp = train_test_split(\n",
    "    X, y, test_size=0.3, stratify=y, random_state=42\n",
    ")\n",
    "X_val, X_test, y_val, y_test = train_test_split(\n",
    "    X_temp, y_temp, test_size=0.5, stratify=y_temp, random_state=42\n",
    ")\n",
    "\n",
    "print(\"Train shape:\", X_train.shape)\n",
    "print(\"Validation shape:\", X_val.shape)\n",
    "print(\"Test shape:\", X_test.shape)\n"
   ]
  }
 ],
 "metadata": {
  "kernelspec": {
   "display_name": "Python 3 (ipykernel)",
   "language": "python",
   "name": "python3"
  },
  "language_info": {
   "codemirror_mode": {
    "name": "ipython",
    "version": 3
   },
   "file_extension": ".py",
   "mimetype": "text/x-python",
   "name": "python",
   "nbconvert_exporter": "python",
   "pygments_lexer": "ipython3",
   "version": "3.13.6"
  }
 },
 "nbformat": 4,
 "nbformat_minor": 5
}
