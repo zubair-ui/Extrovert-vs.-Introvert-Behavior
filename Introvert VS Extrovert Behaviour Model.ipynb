{
 "cells": [
  {
   "cell_type": "markdown",
   "id": "1d097855-a17a-4bf3-b09b-1e203b12f104",
   "metadata": {},
   "source": [
    "# Introvert VS Extrovert Behavior Model using Logistic Regression and Random Forest\n"
   ]
  },
  {
   "cell_type": "markdown",
   "id": "42566641-a3ba-421e-8e16-d555d0bd1916",
   "metadata": {},
   "source": [
    "## Data Analysis\n"
   ]
  },
  {
   "cell_type": "code",
   "execution_count": 5,
   "id": "8ed04e84-7995-47ad-88ac-0423cb4bd766",
   "metadata": {},
   "outputs": [
    {
     "name": "stdout",
     "output_type": "stream",
     "text": [
      "Train shape: (1733, 7)\n",
      "Validation shape: (372, 7)\n",
      "Test shape: (372, 7)\n"
     ]
    }
   ],
   "source": [
    "import pandas as pd\n",
    "from sklearn.model_selection import train_test_split\n",
    "\n",
    "# Load Dataset\n",
    "df = pd.read_csv(\"personality_dataset.csv\")\n",
    "\n",
    "# Drop null rows \n",
    "df = df.dropna()\n",
    "\n",
    "# Encode categorical Yes/No -> 1/0\n",
    "df[\"Stage_fear\"] = df[\"Stage_fear\"].map({\"Yes\": 1, \"No\": 0})\n",
    "df[\"Drained_after_socializing\"] = df[\"Drained_after_socializing\"].map({\"Yes\": 1, \"No\": 0})\n",
    "\n",
    "# Encode target Introvert=0, Extrovert=1\n",
    "df[\"Personality\"] = df[\"Personality\"].map({\"Introvert\": 0, \"Extrovert\": 1})\n",
    "\n",
    "# Features and Target\n",
    "X = df.drop(\"Personality\", axis=1)\n",
    "y = df[\"Personality\"]\n",
    "\n",
    "# Data Splitting\n",
    "X_train, X_temp, y_train, y_temp = train_test_split(\n",
    "    X, y, test_size=0.3, stratify=y, random_state=42\n",
    ")\n",
    "X_val, X_test, y_val, y_test = train_test_split(\n",
    "    X_temp, y_temp, test_size=0.5, stratify=y_temp, random_state=42\n",
    ")\n",
    "\n",
    "print(\"Train shape:\", X_train.shape)\n",
    "print(\"Validation shape:\", X_val.shape)\n",
    "print(\"Test shape:\", X_test.shape)\n"
   ]
  },
  {
   "cell_type": "markdown",
   "id": "057e3985-0368-466b-9e08-425f33e2036d",
   "metadata": {},
   "source": [
    "## Logistic Regression"
   ]
  },
  {
   "cell_type": "code",
   "execution_count": 6,
   "id": "43d2c375-e274-403a-8a0f-7d670b11af45",
   "metadata": {},
   "outputs": [
    {
     "name": "stdout",
     "output_type": "stream",
     "text": [
      "=== Logistic Regression (Validation) ===\n",
      "              precision    recall  f1-score   support\n",
      "\n",
      "           0       0.92      0.93      0.93       180\n",
      "           1       0.94      0.93      0.93       192\n",
      "\n",
      "    accuracy                           0.93       372\n",
      "   macro avg       0.93      0.93      0.93       372\n",
      "weighted avg       0.93      0.93      0.93       372\n",
      "\n",
      "=== Logistic Regression (Test) ===\n",
      "              precision    recall  f1-score   support\n",
      "\n",
      "           0       0.94      0.94      0.94       181\n",
      "           1       0.95      0.94      0.94       191\n",
      "\n",
      "    accuracy                           0.94       372\n",
      "   macro avg       0.94      0.94      0.94       372\n",
      "weighted avg       0.94      0.94      0.94       372\n",
      "\n"
     ]
    },
    {
     "data": {
      "image/png": "[encoded data removed]",
      "text/plain": [
       "<Figure size 640x480 with 2 Axes>"
      ]
     },
     "metadata": {},
     "output_type": "display_data"
    }
   ],
   "source": [
    "from sklearn.preprocessing import StandardScaler\n",
    "from sklearn.linear_model import LogisticRegression\n",
    "from sklearn.metrics import (\n",
    "    classification_report, confusion_matrix, ConfusionMatrixDisplay\n",
    ")\n",
    "import matplotlib.pyplot as plt\n",
    "\n",
    "# Scale features\n",
    "scaler = StandardScaler()\n",
    "X_train_scaled = scaler.fit_transform(X_train)\n",
    "X_val_scaled = scaler.transform(X_val)\n",
    "X_test_scaled = scaler.transform(X_test)\n",
    " \n",
    "# Train Logistic Regression \n",
    "lr = LogisticRegression(random_state=42)\n",
    "lr.fit(X_train_scaled, y_train)\n",
    "\n",
    "# Predictions\n",
    "y_val_pred_lr = lr.predict(X_val_scaled)\n",
    "y_test_pred_lr = lr.predict(X_test_scaled)\n",
    " \n",
    "# Validation metrics \n",
    "print(\"=== Logistic Regression (Validation) ===\")\n",
    "print(classification_report(y_val, y_val_pred_lr))\n",
    " \n",
    "# Test metrics \n",
    "print(\"=== Logistic Regression (Test) ===\")\n",
    "print(classification_report(y_test, y_test_pred_lr))\n",
    " \n",
    "# Confusion Matrix (Test) \n",
    "cm_lr = confusion_matrix(y_test, y_test_pred_lr)\n",
    "ConfusionMatrixDisplay(cm_lr).plot(cmap=\"Blues\")\n",
    "plt.title(\"Confusion Matrix - Logistic Regression\")\n",
    "plt.show()\n"
   ]
  },
  {
   "cell_type": "code",
   "execution_count": null,
   "id": "eaec381b-dcd6-4f05-87b4-82cea0b009b7",
   "metadata": {},
   "outputs": [],
   "source": []
  }
 ],
 "metadata": {
  "kernelspec": {
   "display_name": "Python 3 (ipykernel)",
   "language": "python",
   "name": "python3"
  },
  "language_info": {
   "codemirror_mode": {
    "name": "ipython",
    "version": 3
   },
   "file_extension": ".py",
   "mimetype": "text/x-python",
   "name": "python",
   "nbconvert_exporter": "python",
   "pygments_lexer": "ipython3",
   "version": "3.13.6"
  }
 },
 "nbformat": 4,
 "nbformat_minor": 5
}
